{
  "nbformat": 4,
  "nbformat_minor": 0,
  "metadata": {
    "colab": {
      "provenance": [],
      "gpuType": "T4",
      "authorship_tag": "ABX9TyN+vDrdcZ1bEkpaHIZmhuJ5",
      "include_colab_link": true
    },
    "kernelspec": {
      "name": "python3",
      "display_name": "Python 3"
    },
    "language_info": {
      "name": "python"
    },
    "accelerator": "GPU"
  },
  "cells": [
    {
      "cell_type": "markdown",
      "metadata": {
        "id": "view-in-github",
        "colab_type": "text"
      },
      "source": [
        "<a href=\"https://colab.research.google.com/github/Pavani3005/ViT_assignment/blob/main/q1.ipynb\" target=\"_parent\"><img src=\"https://colab.research.google.com/assets/colab-badge.svg\" alt=\"Open In Colab\"/></a>"
      ]
    },
    {
      "cell_type": "code",
      "execution_count": null,
      "metadata": {
        "id": "Xz8lDHfcxECp"
      },
      "outputs": [],
      "source": [
        "!rm -r '/content/sample_data'"
      ]
    },
    {
      "cell_type": "code",
      "source": [
        "# Import necessary libraries\n",
        "import torch\n",
        "import torch.nn as nn\n",
        "import torch.optim as optim\n",
        "import torchvision\n",
        "import torchvision.transforms as transforms\n",
        "from torch.utils.data import DataLoader\n",
        "from tqdm import tqdm # For a nice progress bar\n",
        "\n",
        "# Set a seed for reproducibility\n",
        "torch.manual_seed(42)\n",
        "\n",
        "# Check for GPU availability and set the device\n",
        "device = \"cuda\" if torch.cuda.is_available() else \"cpu\"\n",
        "print(f\"Using device: {device}\")"
      ],
      "metadata": {
        "colab": {
          "base_uri": "https://localhost:8080/"
        },
        "id": "BdBvKsMzxLlV",
        "outputId": "7bc77ae1-97ec-4944-9b78-a400b06c5ce6"
      },
      "execution_count": null,
      "outputs": [
        {
          "output_type": "stream",
          "name": "stdout",
          "text": [
            "Using device: cuda\n"
          ]
        }
      ]
    },
    {
      "cell_type": "code",
      "source": [
        "# --- CONFIGURATION ---\n",
        "IMG_SIZE = 32\n",
        "PATCH_SIZE = 4\n",
        "NUM_CLASSES = 10 # CIFAR-10 has 10 classes\n",
        "EMB_DIM = 512    # Embedding dimension\n",
        "NUM_HEADS = 8    # Number of attention heads\n",
        "NUM_LAYERS = 6   # Number of Transformer encoder layers\n",
        "HIDDEN_DIM = 2048 # Hidden dimension in the MLP\n",
        "DROPOUT = 0.2\n",
        "\n",
        "# --- TRAINING PARAMS ---\n",
        "BATCH_SIZE = 256\n",
        "LEARNING_RATE = 1e-4\n",
        "NUM_EPOCHS = 100"
      ],
      "metadata": {
        "id": "8z0uw7TdxQyV"
      },
      "execution_count": null,
      "outputs": []
    },
    {
      "cell_type": "code",
      "source": [
        "# --- DATA PREPARATION ---\n",
        "\n",
        "# Define transformations for training data (with augmentation)\n",
        "transform_train = transforms.Compose([\n",
        "    transforms.RandomResizedCrop(IMG_SIZE, scale=(0.8, 1.0)),\n",
        "    transforms.TrivialAugmentWide(),\n",
        "    transforms.RandomHorizontalFlip(p=0.5),\n",
        "    transforms.ToTensor(),\n",
        "    transforms.Normalize(mean=[0.4914, 0.4822, 0.4465], std=[0.2470, 0.2435, 0.2616])\n",
        "])\n",
        "\n",
        "# Define transformations for test data (only normalization)\n",
        "transform_test = transforms.Compose([\n",
        "    transforms.ToTensor(),\n",
        "    transforms.Normalize(mean=[0.4914, 0.4822, 0.4465], std=[0.2470, 0.2435, 0.2616])\n",
        "])\n",
        "\n",
        "# Download datasets\n",
        "train_dataset = torchvision.datasets.CIFAR10(root='./data', train=True, download=True, transform=transform_train)\n",
        "test_dataset = torchvision.datasets.CIFAR10(root='./data', train=False, download=True, transform=transform_test)\n",
        "\n",
        "# Create DataLoaders\n",
        "train_loader = DataLoader(train_dataset, batch_size=BATCH_SIZE, shuffle=True, num_workers=2, pin_memory=True)\n",
        "test_loader = DataLoader(test_dataset, batch_size=BATCH_SIZE, shuffle=False, num_workers=2, pin_memory=True)"
      ],
      "metadata": {
        "colab": {
          "base_uri": "https://localhost:8080/"
        },
        "id": "kOiNK3wbxeYY",
        "outputId": "4aab34f9-2838-4742-f783-a68189ec752f"
      },
      "execution_count": null,
      "outputs": [
        {
          "output_type": "stream",
          "name": "stderr",
          "text": [
            "100%|██████████| 170M/170M [00:13<00:00, 12.3MB/s]\n"
          ]
        }
      ]
    },
    {
      "cell_type": "code",
      "source": [
        "# --- MODEL ARCHITECTURE ---\n",
        "\n",
        "class PatchEmbedding(nn.Module):\n",
        "    \"\"\"Converts an image into a sequence of patch embeddings.\"\"\"\n",
        "    def __init__(self):\n",
        "        super().__init__()\n",
        "        self.patcher = nn.Conv2d(\n",
        "            in_channels=3,\n",
        "            out_channels=EMB_DIM,\n",
        "            kernel_size=PATCH_SIZE,\n",
        "            stride=PATCH_SIZE\n",
        "        )\n",
        "\n",
        "    def forward(self, x):\n",
        "        # x shape: [B, C, H, W] -> e.g., [256, 3, 32, 32]\n",
        "        # Output shape: [B, EMB_DIM, H/P, W/P] -> e.g., [256, 512, 8, 8]\n",
        "        x = self.patcher(x)\n",
        "\n",
        "        # Flatten and transpose\n",
        "        # Output shape: [B, EMB_DIM, N] -> e.g., [256, 512, 64]\n",
        "        x = x.flatten(2)\n",
        "        # Output shape: [B, N, EMB_DIM] -> e.g., [256, 64, 512]\n",
        "        x = x.transpose(1, 2)\n",
        "        return x"
      ],
      "metadata": {
        "id": "sm9jYHUFxnEP"
      },
      "execution_count": null,
      "outputs": []
    },
    {
      "cell_type": "code",
      "source": [
        "class TransformerEncoder(nn.Module):\n",
        "    \"\"\"The standard Transformer encoder block.\"\"\"\n",
        "    def __init__(self):\n",
        "        super().__init__()\n",
        "        # Attention block\n",
        "        self.norm1 = nn.LayerNorm(EMB_DIM)\n",
        "        self.attn = nn.MultiheadAttention(EMB_DIM, NUM_HEADS, dropout=DROPOUT, batch_first=True)\n",
        "        self.dropout1 = nn.Dropout(DROPOUT)\n",
        "\n",
        "        # MLP block\n",
        "        self.norm2 = nn.LayerNorm(EMB_DIM)\n",
        "        self.mlp = nn.Sequential(\n",
        "            nn.Linear(EMB_DIM, HIDDEN_DIM),\n",
        "            nn.GELU(),\n",
        "            nn.Dropout(DROPOUT),\n",
        "            nn.Linear(HIDDEN_DIM, EMB_DIM),\n",
        "            nn.Dropout(DROPOUT)\n",
        "        )\n",
        "\n",
        "    def forward(self, x):\n",
        "        # Attention block with residual connection\n",
        "        x_norm = self.norm1(x)\n",
        "        attn_out, _ = self.attn(x_norm, x_norm, x_norm)\n",
        "        x = x + self.dropout1(attn_out)\n",
        "\n",
        "        # MLP block with residual connection\n",
        "        x_norm = self.norm2(x)\n",
        "        mlp_out = self.mlp(x_norm)\n",
        "        x = x + mlp_out\n",
        "\n",
        "        return x"
      ],
      "metadata": {
        "id": "LTvYYaEzxsK4"
      },
      "execution_count": null,
      "outputs": []
    },
    {
      "cell_type": "code",
      "source": [
        "class VisionTransformer(nn.Module):\n",
        "    \"\"\"The full Vision Transformer model.\"\"\"\n",
        "    def __init__(self):\n",
        "        super().__init__()\n",
        "        num_patches = (IMG_SIZE // PATCH_SIZE) ** 2\n",
        "\n",
        "        self.patch_embedding = PatchEmbedding()\n",
        "\n",
        "        # Learnable CLS token\n",
        "        self.cls_token = nn.Parameter(torch.randn(1, 1, EMB_DIM))\n",
        "\n",
        "        # Learnable positional embeddings\n",
        "        self.pos_embedding = nn.Parameter(torch.randn(1, num_patches + 1, EMB_DIM))\n",
        "\n",
        "        # Stack of Transformer encoders\n",
        "        self.encoders = nn.Sequential(*[TransformerEncoder() for _ in range(NUM_LAYERS)])\n",
        "\n",
        "        # Final classification head\n",
        "        self.norm = nn.LayerNorm(EMB_DIM)\n",
        "        self.classifier = nn.Linear(EMB_DIM, NUM_CLASSES)\n",
        "\n",
        "    def forward(self, x):\n",
        "        # 1. Create patch embeddings\n",
        "        x = self.patch_embedding(x)\n",
        "\n",
        "        # 2. Prepend CLS token\n",
        "        # Expand cls_token to match the batch size\n",
        "        cls_tokens = self.cls_token.expand(x.shape[0], -1, -1)\n",
        "        x = torch.cat((cls_tokens, x), dim=1)\n",
        "\n",
        "        # 3. Add positional embeddings\n",
        "        x = x + self.pos_embedding\n",
        "\n",
        "        # 4. Pass through Transformer encoders\n",
        "        x = self.encoders(x)\n",
        "\n",
        "        # 5. Get the CLS token output for classification\n",
        "        # We only use the output corresponding to the first token (CLS token)\n",
        "        cls_output = x[:, 0]\n",
        "\n",
        "        # 6. Pass through the final norm and classifier\n",
        "        cls_output = self.norm(cls_output)\n",
        "        out = self.classifier(cls_output)\n",
        "\n",
        "        return out\n",
        "\n",
        "# Instantiate the model and move it to the GPU\n",
        "model = VisionTransformer().to(device)\n",
        "print(model)"
      ],
      "metadata": {
        "colab": {
          "base_uri": "https://localhost:8080/"
        },
        "id": "nLUONzvZxudJ",
        "outputId": "8523ec55-3a5b-4c68-e2aa-977873bf38ba"
      },
      "execution_count": null,
      "outputs": [
        {
          "output_type": "stream",
          "name": "stdout",
          "text": [
            "VisionTransformer(\n",
            "  (patch_embedding): PatchEmbedding(\n",
            "    (patcher): Conv2d(3, 512, kernel_size=(4, 4), stride=(4, 4))\n",
            "  )\n",
            "  (encoders): Sequential(\n",
            "    (0): TransformerEncoder(\n",
            "      (norm1): LayerNorm((512,), eps=1e-05, elementwise_affine=True)\n",
            "      (attn): MultiheadAttention(\n",
            "        (out_proj): NonDynamicallyQuantizableLinear(in_features=512, out_features=512, bias=True)\n",
            "      )\n",
            "      (dropout1): Dropout(p=0.2, inplace=False)\n",
            "      (norm2): LayerNorm((512,), eps=1e-05, elementwise_affine=True)\n",
            "      (mlp): Sequential(\n",
            "        (0): Linear(in_features=512, out_features=2048, bias=True)\n",
            "        (1): GELU(approximate='none')\n",
            "        (2): Dropout(p=0.2, inplace=False)\n",
            "        (3): Linear(in_features=2048, out_features=512, bias=True)\n",
            "        (4): Dropout(p=0.2, inplace=False)\n",
            "      )\n",
            "    )\n",
            "    (1): TransformerEncoder(\n",
            "      (norm1): LayerNorm((512,), eps=1e-05, elementwise_affine=True)\n",
            "      (attn): MultiheadAttention(\n",
            "        (out_proj): NonDynamicallyQuantizableLinear(in_features=512, out_features=512, bias=True)\n",
            "      )\n",
            "      (dropout1): Dropout(p=0.2, inplace=False)\n",
            "      (norm2): LayerNorm((512,), eps=1e-05, elementwise_affine=True)\n",
            "      (mlp): Sequential(\n",
            "        (0): Linear(in_features=512, out_features=2048, bias=True)\n",
            "        (1): GELU(approximate='none')\n",
            "        (2): Dropout(p=0.2, inplace=False)\n",
            "        (3): Linear(in_features=2048, out_features=512, bias=True)\n",
            "        (4): Dropout(p=0.2, inplace=False)\n",
            "      )\n",
            "    )\n",
            "    (2): TransformerEncoder(\n",
            "      (norm1): LayerNorm((512,), eps=1e-05, elementwise_affine=True)\n",
            "      (attn): MultiheadAttention(\n",
            "        (out_proj): NonDynamicallyQuantizableLinear(in_features=512, out_features=512, bias=True)\n",
            "      )\n",
            "      (dropout1): Dropout(p=0.2, inplace=False)\n",
            "      (norm2): LayerNorm((512,), eps=1e-05, elementwise_affine=True)\n",
            "      (mlp): Sequential(\n",
            "        (0): Linear(in_features=512, out_features=2048, bias=True)\n",
            "        (1): GELU(approximate='none')\n",
            "        (2): Dropout(p=0.2, inplace=False)\n",
            "        (3): Linear(in_features=2048, out_features=512, bias=True)\n",
            "        (4): Dropout(p=0.2, inplace=False)\n",
            "      )\n",
            "    )\n",
            "    (3): TransformerEncoder(\n",
            "      (norm1): LayerNorm((512,), eps=1e-05, elementwise_affine=True)\n",
            "      (attn): MultiheadAttention(\n",
            "        (out_proj): NonDynamicallyQuantizableLinear(in_features=512, out_features=512, bias=True)\n",
            "      )\n",
            "      (dropout1): Dropout(p=0.2, inplace=False)\n",
            "      (norm2): LayerNorm((512,), eps=1e-05, elementwise_affine=True)\n",
            "      (mlp): Sequential(\n",
            "        (0): Linear(in_features=512, out_features=2048, bias=True)\n",
            "        (1): GELU(approximate='none')\n",
            "        (2): Dropout(p=0.2, inplace=False)\n",
            "        (3): Linear(in_features=2048, out_features=512, bias=True)\n",
            "        (4): Dropout(p=0.2, inplace=False)\n",
            "      )\n",
            "    )\n",
            "    (4): TransformerEncoder(\n",
            "      (norm1): LayerNorm((512,), eps=1e-05, elementwise_affine=True)\n",
            "      (attn): MultiheadAttention(\n",
            "        (out_proj): NonDynamicallyQuantizableLinear(in_features=512, out_features=512, bias=True)\n",
            "      )\n",
            "      (dropout1): Dropout(p=0.2, inplace=False)\n",
            "      (norm2): LayerNorm((512,), eps=1e-05, elementwise_affine=True)\n",
            "      (mlp): Sequential(\n",
            "        (0): Linear(in_features=512, out_features=2048, bias=True)\n",
            "        (1): GELU(approximate='none')\n",
            "        (2): Dropout(p=0.2, inplace=False)\n",
            "        (3): Linear(in_features=2048, out_features=512, bias=True)\n",
            "        (4): Dropout(p=0.2, inplace=False)\n",
            "      )\n",
            "    )\n",
            "    (5): TransformerEncoder(\n",
            "      (norm1): LayerNorm((512,), eps=1e-05, elementwise_affine=True)\n",
            "      (attn): MultiheadAttention(\n",
            "        (out_proj): NonDynamicallyQuantizableLinear(in_features=512, out_features=512, bias=True)\n",
            "      )\n",
            "      (dropout1): Dropout(p=0.2, inplace=False)\n",
            "      (norm2): LayerNorm((512,), eps=1e-05, elementwise_affine=True)\n",
            "      (mlp): Sequential(\n",
            "        (0): Linear(in_features=512, out_features=2048, bias=True)\n",
            "        (1): GELU(approximate='none')\n",
            "        (2): Dropout(p=0.2, inplace=False)\n",
            "        (3): Linear(in_features=2048, out_features=512, bias=True)\n",
            "        (4): Dropout(p=0.2, inplace=False)\n",
            "      )\n",
            "    )\n",
            "  )\n",
            "  (norm): LayerNorm((512,), eps=1e-05, elementwise_affine=True)\n",
            "  (classifier): Linear(in_features=512, out_features=10, bias=True)\n",
            ")\n"
          ]
        }
      ]
    },
    {
      "cell_type": "code",
      "source": [
        "# --- TRAINING SETUP ---\n",
        "\n",
        "# Loss function\n",
        "criterion = nn.CrossEntropyLoss()\n",
        "# Optimizer\n",
        "optimizer = optim.AdamW(model.parameters(), lr=LEARNING_RATE, weight_decay=0.1)\n",
        "# Learning rate scheduler\n",
        "scheduler = optim.lr_scheduler.CosineAnnealingLR(optimizer, T_max=NUM_EPOCHS)\n",
        "\n",
        "# --- TRAINING & EVALUATION FUNCTIONS ---\n",
        "\n",
        "def train_one_epoch(model, loader, criterion, optimizer, device):\n",
        "    model.train()\n",
        "    running_loss = 0.0\n",
        "    correct_preds = 0\n",
        "    total_samples = 0\n",
        "\n",
        "    progress_bar = tqdm(loader, desc=\"Training\")\n",
        "    for inputs, labels in progress_bar:\n",
        "        inputs, labels = inputs.to(device), labels.to(device)\n",
        "\n",
        "        # Zero the parameter gradients\n",
        "        optimizer.zero_grad()\n",
        "\n",
        "        # Forward pass\n",
        "        outputs = model(inputs)\n",
        "        loss = criterion(outputs, labels)\n",
        "\n",
        "        # Backward pass and optimize\n",
        "        loss.backward()\n",
        "        optimizer.step()\n",
        "\n",
        "        # Statistics\n",
        "        running_loss += loss.item() * inputs.size(0)\n",
        "        _, predicted = torch.max(outputs.data, 1)\n",
        "        total_samples += labels.size(0)\n",
        "        correct_preds += (predicted == labels).sum().item()\n",
        "\n",
        "        progress_bar.set_postfix(loss=loss.item(), acc=f\"{(predicted == labels).sum().item()/labels.size(0):.2f}\")\n",
        "\n",
        "    epoch_loss = running_loss / total_samples\n",
        "    epoch_acc = correct_preds / total_samples\n",
        "    return epoch_loss, epoch_acc\n",
        "\n",
        "\n",
        "def evaluate(model, loader, criterion, device):\n",
        "    model.eval()\n",
        "    running_loss = 0.0\n",
        "    correct_preds = 0\n",
        "    total_samples = 0\n",
        "\n",
        "    with torch.no_grad():\n",
        "        progress_bar = tqdm(loader, desc=\"Evaluating\")\n",
        "        for inputs, labels in progress_bar:\n",
        "            inputs, labels = inputs.to(device), labels.to(device)\n",
        "\n",
        "            outputs = model(inputs)\n",
        "            loss = criterion(outputs, labels)\n",
        "\n",
        "            running_loss += loss.item() * inputs.size(0)\n",
        "            _, predicted = torch.max(outputs.data, 1)\n",
        "            total_samples += labels.size(0)\n",
        "            correct_preds += (predicted == labels).sum().item()\n",
        "\n",
        "            progress_bar.set_postfix(loss=loss.item())\n",
        "\n",
        "    epoch_loss = running_loss / total_samples\n",
        "    epoch_acc = correct_preds / total_samples\n",
        "    return epoch_loss, epoch_acc"
      ],
      "metadata": {
        "id": "ziYea9pRxyvp"
      },
      "execution_count": null,
      "outputs": []
    },
    {
      "cell_type": "code",
      "source": [
        "# --- MAIN TRAINING LOOP ---\n",
        "\n",
        "best_test_acc = 0.0\n",
        "\n",
        "print(\"Starting training...\")\n",
        "for epoch in range(NUM_EPOCHS):\n",
        "    train_loss, train_acc = train_one_epoch(model, train_loader, criterion, optimizer, device)\n",
        "    test_loss, test_acc = evaluate(model, test_loader, criterion, device)\n",
        "\n",
        "    # Step the scheduler\n",
        "    scheduler.step()\n",
        "\n",
        "    print(f\"Epoch {epoch+1}/{NUM_EPOCHS} | \"\n",
        "          f\"Train Loss: {train_loss:.4f}, Train Acc: {train_acc:.4f} | \"\n",
        "          f\"Test Loss: {test_loss:.4f}, Test Acc: {test_acc:.4f}\")\n",
        "\n",
        "    # Save the best model\n",
        "    if test_acc > best_test_acc:\n",
        "        best_test_acc = test_acc\n",
        "        torch.save(model.state_dict(), 'best_vit_cifar10.pth')\n",
        "        print(f\"New best model saved with accuracy: {best_test_acc:.4f}\")\n",
        "\n",
        "print(\"Training finished!\")\n",
        "print(f\"Best Test Accuracy: {best_test_acc:.4f}\")"
      ],
      "metadata": {
        "colab": {
          "base_uri": "https://localhost:8080/"
        },
        "id": "Dx_czYmOx2uB",
        "outputId": "68bc197a-fe97-4707-d730-c173f12da8ec"
      },
      "execution_count": null,
      "outputs": [
        {
          "output_type": "stream",
          "name": "stdout",
          "text": [
            "Starting training...\n"
          ]
        },
        {
          "output_type": "stream",
          "name": "stderr",
          "text": [
            "Training: 100%|██████████| 196/196 [02:03<00:00,  1.59it/s, acc=0.25, loss=1.93]\n",
            "Evaluating: 100%|██████████| 40/40 [00:08<00:00,  4.65it/s, loss=1.56]\n"
          ]
        },
        {
          "output_type": "stream",
          "name": "stdout",
          "text": [
            "Epoch 1/100 | Train Loss: 2.0402, Train Acc: 0.2517 | Test Loss: 1.6046, Test Acc: 0.4280\n",
            "New best model saved with accuracy: 0.4280\n"
          ]
        },
        {
          "output_type": "stream",
          "name": "stderr",
          "text": [
            "Training: 100%|██████████| 196/196 [02:04<00:00,  1.58it/s, acc=0.40, loss=1.66]\n",
            "Evaluating: 100%|██████████| 40/40 [00:08<00:00,  4.85it/s, loss=1.23]\n"
          ]
        },
        {
          "output_type": "stream",
          "name": "stdout",
          "text": [
            "Epoch 2/100 | Train Loss: 1.8060, Train Acc: 0.3501 | Test Loss: 1.4088, Test Acc: 0.4993\n",
            "New best model saved with accuracy: 0.4993\n"
          ]
        },
        {
          "output_type": "stream",
          "name": "stderr",
          "text": [
            "Training: 100%|██████████| 196/196 [02:04<00:00,  1.57it/s, acc=0.36, loss=1.61]\n",
            "Evaluating: 100%|██████████| 40/40 [00:08<00:00,  4.85it/s, loss=1.26]\n"
          ]
        },
        {
          "output_type": "stream",
          "name": "stdout",
          "text": [
            "Epoch 3/100 | Train Loss: 1.6805, Train Acc: 0.3969 | Test Loss: 1.3382, Test Acc: 0.5233\n",
            "New best model saved with accuracy: 0.5233\n"
          ]
        },
        {
          "output_type": "stream",
          "name": "stderr",
          "text": [
            "Training: 100%|██████████| 196/196 [02:04<00:00,  1.58it/s, acc=0.46, loss=1.49]\n",
            "Evaluating: 100%|██████████| 40/40 [00:08<00:00,  4.86it/s, loss=1.06]\n"
          ]
        },
        {
          "output_type": "stream",
          "name": "stdout",
          "text": [
            "Epoch 4/100 | Train Loss: 1.6136, Train Acc: 0.4204 | Test Loss: 1.2938, Test Acc: 0.5372\n",
            "New best model saved with accuracy: 0.5372\n"
          ]
        },
        {
          "output_type": "stream",
          "name": "stderr",
          "text": [
            "Training: 100%|██████████| 196/196 [02:04<00:00,  1.57it/s, acc=0.49, loss=1.6]\n",
            "Evaluating: 100%|██████████| 40/40 [00:08<00:00,  4.85it/s, loss=1.11]\n"
          ]
        },
        {
          "output_type": "stream",
          "name": "stdout",
          "text": [
            "Epoch 5/100 | Train Loss: 1.5618, Train Acc: 0.4402 | Test Loss: 1.2215, Test Acc: 0.5566\n",
            "New best model saved with accuracy: 0.5566\n"
          ]
        },
        {
          "output_type": "stream",
          "name": "stderr",
          "text": [
            "Training: 100%|██████████| 196/196 [02:04<00:00,  1.57it/s, acc=0.46, loss=1.57]\n",
            "Evaluating: 100%|██████████| 40/40 [00:08<00:00,  4.78it/s, loss=1.14]\n"
          ]
        },
        {
          "output_type": "stream",
          "name": "stdout",
          "text": [
            "Epoch 6/100 | Train Loss: 1.5291, Train Acc: 0.4511 | Test Loss: 1.1845, Test Acc: 0.5736\n",
            "New best model saved with accuracy: 0.5736\n"
          ]
        },
        {
          "output_type": "stream",
          "name": "stderr",
          "text": [
            "Training: 100%|██████████| 196/196 [02:04<00:00,  1.58it/s, acc=0.54, loss=1.41]\n",
            "Evaluating: 100%|██████████| 40/40 [00:08<00:00,  4.86it/s, loss=1.08]\n"
          ]
        },
        {
          "output_type": "stream",
          "name": "stdout",
          "text": [
            "Epoch 7/100 | Train Loss: 1.4871, Train Acc: 0.4694 | Test Loss: 1.1879, Test Acc: 0.5781\n",
            "New best model saved with accuracy: 0.5781\n"
          ]
        },
        {
          "output_type": "stream",
          "name": "stderr",
          "text": [
            "Training: 100%|██████████| 196/196 [02:04<00:00,  1.58it/s, acc=0.44, loss=1.51]\n",
            "Evaluating: 100%|██████████| 40/40 [00:08<00:00,  4.83it/s, loss=1.05]\n"
          ]
        },
        {
          "output_type": "stream",
          "name": "stdout",
          "text": [
            "Epoch 8/100 | Train Loss: 1.4567, Train Acc: 0.4806 | Test Loss: 1.0937, Test Acc: 0.6059\n",
            "New best model saved with accuracy: 0.6059\n"
          ]
        },
        {
          "output_type": "stream",
          "name": "stderr",
          "text": [
            "Training: 100%|██████████| 196/196 [02:04<00:00,  1.57it/s, acc=0.46, loss=1.41]\n",
            "Evaluating: 100%|██████████| 40/40 [00:08<00:00,  4.83it/s, loss=0.96]\n"
          ]
        },
        {
          "output_type": "stream",
          "name": "stdout",
          "text": [
            "Epoch 9/100 | Train Loss: 1.4261, Train Acc: 0.4871 | Test Loss: 1.0919, Test Acc: 0.6126\n",
            "New best model saved with accuracy: 0.6126\n"
          ]
        },
        {
          "output_type": "stream",
          "name": "stderr",
          "text": [
            "Training: 100%|██████████| 196/196 [02:04<00:00,  1.57it/s, acc=0.47, loss=1.36]\n",
            "Evaluating: 100%|██████████| 40/40 [00:08<00:00,  4.86it/s, loss=1.19]\n"
          ]
        },
        {
          "output_type": "stream",
          "name": "stdout",
          "text": [
            "Epoch 10/100 | Train Loss: 1.4086, Train Acc: 0.4952 | Test Loss: 1.0648, Test Acc: 0.6204\n",
            "New best model saved with accuracy: 0.6204\n"
          ]
        },
        {
          "output_type": "stream",
          "name": "stderr",
          "text": [
            "Training: 100%|██████████| 196/196 [02:04<00:00,  1.57it/s, acc=0.50, loss=1.45]\n",
            "Evaluating: 100%|██████████| 40/40 [00:08<00:00,  4.84it/s, loss=1.03]\n"
          ]
        },
        {
          "output_type": "stream",
          "name": "stdout",
          "text": [
            "Epoch 11/100 | Train Loss: 1.3936, Train Acc: 0.5010 | Test Loss: 1.0349, Test Acc: 0.6257\n",
            "New best model saved with accuracy: 0.6257\n"
          ]
        },
        {
          "output_type": "stream",
          "name": "stderr",
          "text": [
            "Training: 100%|██████████| 196/196 [02:04<00:00,  1.57it/s, acc=0.45, loss=1.43]\n",
            "Evaluating: 100%|██████████| 40/40 [00:08<00:00,  4.79it/s, loss=0.959]\n"
          ]
        },
        {
          "output_type": "stream",
          "name": "stdout",
          "text": [
            "Epoch 12/100 | Train Loss: 1.3598, Train Acc: 0.5149 | Test Loss: 1.0098, Test Acc: 0.6395\n",
            "New best model saved with accuracy: 0.6395\n"
          ]
        },
        {
          "output_type": "stream",
          "name": "stderr",
          "text": [
            "Training: 100%|██████████| 196/196 [02:04<00:00,  1.58it/s, acc=0.45, loss=1.41]\n",
            "Evaluating: 100%|██████████| 40/40 [00:08<00:00,  4.84it/s, loss=0.946]\n"
          ]
        },
        {
          "output_type": "stream",
          "name": "stdout",
          "text": [
            "Epoch 13/100 | Train Loss: 1.3455, Train Acc: 0.5204 | Test Loss: 0.9988, Test Acc: 0.6432\n",
            "New best model saved with accuracy: 0.6432\n"
          ]
        },
        {
          "output_type": "stream",
          "name": "stderr",
          "text": [
            "Training: 100%|██████████| 196/196 [02:04<00:00,  1.58it/s, acc=0.60, loss=1.13]\n",
            "Evaluating: 100%|██████████| 40/40 [00:08<00:00,  4.83it/s, loss=1.02]\n"
          ]
        },
        {
          "output_type": "stream",
          "name": "stdout",
          "text": [
            "Epoch 14/100 | Train Loss: 1.3191, Train Acc: 0.5293 | Test Loss: 1.0115, Test Acc: 0.6431\n"
          ]
        },
        {
          "output_type": "stream",
          "name": "stderr",
          "text": [
            "Training: 100%|██████████| 196/196 [02:04<00:00,  1.58it/s, acc=0.55, loss=1.37]\n",
            "Evaluating: 100%|██████████| 40/40 [00:08<00:00,  4.83it/s, loss=0.815]\n"
          ]
        },
        {
          "output_type": "stream",
          "name": "stdout",
          "text": [
            "Epoch 15/100 | Train Loss: 1.2956, Train Acc: 0.5360 | Test Loss: 0.9891, Test Acc: 0.6487\n",
            "New best model saved with accuracy: 0.6487\n"
          ]
        },
        {
          "output_type": "stream",
          "name": "stderr",
          "text": [
            "Training: 100%|██████████| 196/196 [02:04<00:00,  1.58it/s, acc=0.47, loss=1.36]\n",
            "Evaluating: 100%|██████████| 40/40 [00:08<00:00,  4.84it/s, loss=0.783]\n"
          ]
        },
        {
          "output_type": "stream",
          "name": "stdout",
          "text": [
            "Epoch 16/100 | Train Loss: 1.2826, Train Acc: 0.5422 | Test Loss: 0.9300, Test Acc: 0.6735\n",
            "New best model saved with accuracy: 0.6735\n"
          ]
        },
        {
          "output_type": "stream",
          "name": "stderr",
          "text": [
            "Training: 100%|██████████| 196/196 [02:04<00:00,  1.58it/s, acc=0.57, loss=1.17]\n",
            "Evaluating: 100%|██████████| 40/40 [00:08<00:00,  4.84it/s, loss=0.871]\n"
          ]
        },
        {
          "output_type": "stream",
          "name": "stdout",
          "text": [
            "Epoch 17/100 | Train Loss: 1.2645, Train Acc: 0.5497 | Test Loss: 0.9484, Test Acc: 0.6665\n"
          ]
        },
        {
          "output_type": "stream",
          "name": "stderr",
          "text": [
            "Training: 100%|██████████| 196/196 [02:04<00:00,  1.57it/s, acc=0.53, loss=1.52]\n",
            "Evaluating: 100%|██████████| 40/40 [00:08<00:00,  4.86it/s, loss=0.946]\n"
          ]
        },
        {
          "output_type": "stream",
          "name": "stdout",
          "text": [
            "Epoch 18/100 | Train Loss: 1.2458, Train Acc: 0.5549 | Test Loss: 0.9305, Test Acc: 0.6701\n"
          ]
        },
        {
          "output_type": "stream",
          "name": "stderr",
          "text": [
            "Training: 100%|██████████| 196/196 [02:04<00:00,  1.58it/s, acc=0.50, loss=1.38]\n",
            "Evaluating: 100%|██████████| 40/40 [00:08<00:00,  4.86it/s, loss=0.774]\n"
          ]
        },
        {
          "output_type": "stream",
          "name": "stdout",
          "text": [
            "Epoch 19/100 | Train Loss: 1.2351, Train Acc: 0.5593 | Test Loss: 0.9279, Test Acc: 0.6795\n",
            "New best model saved with accuracy: 0.6795\n"
          ]
        },
        {
          "output_type": "stream",
          "name": "stderr",
          "text": [
            "Training: 100%|██████████| 196/196 [02:04<00:00,  1.58it/s, acc=0.54, loss=1.35]\n",
            "Evaluating: 100%|██████████| 40/40 [00:08<00:00,  4.84it/s, loss=0.728]\n"
          ]
        },
        {
          "output_type": "stream",
          "name": "stdout",
          "text": [
            "Epoch 20/100 | Train Loss: 1.2203, Train Acc: 0.5643 | Test Loss: 0.9431, Test Acc: 0.6708\n"
          ]
        },
        {
          "output_type": "stream",
          "name": "stderr",
          "text": [
            "Training: 100%|██████████| 196/196 [02:04<00:00,  1.57it/s, acc=0.55, loss=1.4]\n",
            "Evaluating: 100%|██████████| 40/40 [00:08<00:00,  4.86it/s, loss=0.911]\n"
          ]
        },
        {
          "output_type": "stream",
          "name": "stdout",
          "text": [
            "Epoch 21/100 | Train Loss: 1.2039, Train Acc: 0.5718 | Test Loss: 0.9086, Test Acc: 0.6791\n"
          ]
        },
        {
          "output_type": "stream",
          "name": "stderr",
          "text": [
            "Training: 100%|██████████| 196/196 [02:04<00:00,  1.58it/s, acc=0.49, loss=1.32]\n",
            "Evaluating: 100%|██████████| 40/40 [00:08<00:00,  4.79it/s, loss=0.711]\n"
          ]
        },
        {
          "output_type": "stream",
          "name": "stdout",
          "text": [
            "Epoch 22/100 | Train Loss: 1.1928, Train Acc: 0.5759 | Test Loss: 0.8661, Test Acc: 0.6928\n",
            "New best model saved with accuracy: 0.6928\n"
          ]
        },
        {
          "output_type": "stream",
          "name": "stderr",
          "text": [
            "Training: 100%|██████████| 196/196 [02:04<00:00,  1.57it/s, acc=0.66, loss=1.02]\n",
            "Evaluating: 100%|██████████| 40/40 [00:08<00:00,  4.85it/s, loss=0.805]\n"
          ]
        },
        {
          "output_type": "stream",
          "name": "stdout",
          "text": [
            "Epoch 23/100 | Train Loss: 1.1774, Train Acc: 0.5806 | Test Loss: 0.8461, Test Acc: 0.7003\n",
            "New best model saved with accuracy: 0.7003\n"
          ]
        },
        {
          "output_type": "stream",
          "name": "stderr",
          "text": [
            "Training: 100%|██████████| 196/196 [02:04<00:00,  1.57it/s, acc=0.66, loss=0.963]\n",
            "Evaluating: 100%|██████████| 40/40 [00:08<00:00,  4.85it/s, loss=0.846]\n"
          ]
        },
        {
          "output_type": "stream",
          "name": "stdout",
          "text": [
            "Epoch 24/100 | Train Loss: 1.1547, Train Acc: 0.5868 | Test Loss: 0.8290, Test Acc: 0.7009\n",
            "New best model saved with accuracy: 0.7009\n"
          ]
        },
        {
          "output_type": "stream",
          "name": "stderr",
          "text": [
            "Training: 100%|██████████| 196/196 [02:04<00:00,  1.58it/s, acc=0.65, loss=0.94]\n",
            "Evaluating: 100%|██████████| 40/40 [00:08<00:00,  4.85it/s, loss=0.783]\n"
          ]
        },
        {
          "output_type": "stream",
          "name": "stdout",
          "text": [
            "Epoch 25/100 | Train Loss: 1.1465, Train Acc: 0.5933 | Test Loss: 0.8433, Test Acc: 0.7017\n",
            "New best model saved with accuracy: 0.7017\n"
          ]
        },
        {
          "output_type": "stream",
          "name": "stderr",
          "text": [
            "Training: 100%|██████████| 196/196 [02:04<00:00,  1.57it/s, acc=0.49, loss=1.36]\n",
            "Evaluating: 100%|██████████| 40/40 [00:08<00:00,  4.83it/s, loss=0.68]\n"
          ]
        },
        {
          "output_type": "stream",
          "name": "stdout",
          "text": [
            "Epoch 26/100 | Train Loss: 1.1318, Train Acc: 0.5960 | Test Loss: 0.8362, Test Acc: 0.7036\n",
            "New best model saved with accuracy: 0.7036\n"
          ]
        },
        {
          "output_type": "stream",
          "name": "stderr",
          "text": [
            "Training: 100%|██████████| 196/196 [02:04<00:00,  1.57it/s, acc=0.65, loss=0.968]\n",
            "Evaluating: 100%|██████████| 40/40 [00:08<00:00,  4.84it/s, loss=0.866]\n"
          ]
        },
        {
          "output_type": "stream",
          "name": "stdout",
          "text": [
            "Epoch 27/100 | Train Loss: 1.1292, Train Acc: 0.5979 | Test Loss: 0.8207, Test Acc: 0.7088\n",
            "New best model saved with accuracy: 0.7088\n"
          ]
        },
        {
          "output_type": "stream",
          "name": "stderr",
          "text": [
            "Training: 100%|██████████| 196/196 [02:04<00:00,  1.57it/s, acc=0.68, loss=0.941]\n",
            "Evaluating: 100%|██████████| 40/40 [00:08<00:00,  4.84it/s, loss=0.827]\n"
          ]
        },
        {
          "output_type": "stream",
          "name": "stdout",
          "text": [
            "Epoch 28/100 | Train Loss: 1.1184, Train Acc: 0.6013 | Test Loss: 0.8496, Test Acc: 0.7009\n"
          ]
        },
        {
          "output_type": "stream",
          "name": "stderr",
          "text": [
            "Training: 100%|██████████| 196/196 [02:04<00:00,  1.57it/s, acc=0.61, loss=1.18]\n",
            "Evaluating: 100%|██████████| 40/40 [00:08<00:00,  4.82it/s, loss=0.759]\n"
          ]
        },
        {
          "output_type": "stream",
          "name": "stdout",
          "text": [
            "Epoch 29/100 | Train Loss: 1.1012, Train Acc: 0.6069 | Test Loss: 0.7991, Test Acc: 0.7187\n",
            "New best model saved with accuracy: 0.7187\n"
          ]
        },
        {
          "output_type": "stream",
          "name": "stderr",
          "text": [
            "Training: 100%|██████████| 196/196 [02:04<00:00,  1.58it/s, acc=0.60, loss=1.19]\n",
            "Evaluating: 100%|██████████| 40/40 [00:08<00:00,  4.84it/s, loss=0.568]\n"
          ]
        },
        {
          "output_type": "stream",
          "name": "stdout",
          "text": [
            "Epoch 30/100 | Train Loss: 1.0870, Train Acc: 0.6115 | Test Loss: 0.7903, Test Acc: 0.7223\n",
            "New best model saved with accuracy: 0.7223\n"
          ]
        },
        {
          "output_type": "stream",
          "name": "stderr",
          "text": [
            "Training: 100%|██████████| 196/196 [02:04<00:00,  1.57it/s, acc=0.68, loss=0.898]\n",
            "Evaluating: 100%|██████████| 40/40 [00:08<00:00,  4.81it/s, loss=0.724]\n"
          ]
        },
        {
          "output_type": "stream",
          "name": "stdout",
          "text": [
            "Epoch 31/100 | Train Loss: 1.0736, Train Acc: 0.6203 | Test Loss: 0.7958, Test Acc: 0.7208\n"
          ]
        },
        {
          "output_type": "stream",
          "name": "stderr",
          "text": [
            "Training: 100%|██████████| 196/196 [02:04<00:00,  1.57it/s, acc=0.49, loss=1.12]\n",
            "Evaluating: 100%|██████████| 40/40 [00:08<00:00,  4.77it/s, loss=0.576]\n"
          ]
        },
        {
          "output_type": "stream",
          "name": "stdout",
          "text": [
            "Epoch 32/100 | Train Loss: 1.0732, Train Acc: 0.6188 | Test Loss: 0.7861, Test Acc: 0.7269\n",
            "New best model saved with accuracy: 0.7269\n"
          ]
        },
        {
          "output_type": "stream",
          "name": "stderr",
          "text": [
            "Training: 100%|██████████| 196/196 [02:04<00:00,  1.57it/s, acc=0.62, loss=0.922]\n",
            "Evaluating: 100%|██████████| 40/40 [00:08<00:00,  4.85it/s, loss=0.479]\n"
          ]
        },
        {
          "output_type": "stream",
          "name": "stdout",
          "text": [
            "Epoch 33/100 | Train Loss: 1.0539, Train Acc: 0.6255 | Test Loss: 0.7753, Test Acc: 0.7278\n",
            "New best model saved with accuracy: 0.7278\n"
          ]
        },
        {
          "output_type": "stream",
          "name": "stderr",
          "text": [
            "Training: 100%|██████████| 196/196 [02:04<00:00,  1.57it/s, acc=0.71, loss=0.865]\n",
            "Evaluating: 100%|██████████| 40/40 [00:08<00:00,  4.83it/s, loss=0.745]\n"
          ]
        },
        {
          "output_type": "stream",
          "name": "stdout",
          "text": [
            "Epoch 34/100 | Train Loss: 1.0486, Train Acc: 0.6278 | Test Loss: 0.7768, Test Acc: 0.7269\n"
          ]
        },
        {
          "output_type": "stream",
          "name": "stderr",
          "text": [
            "Training: 100%|██████████| 196/196 [02:04<00:00,  1.57it/s, acc=0.65, loss=0.969]\n",
            "Evaluating: 100%|██████████| 40/40 [00:08<00:00,  4.80it/s, loss=0.538]\n"
          ]
        },
        {
          "output_type": "stream",
          "name": "stdout",
          "text": [
            "Epoch 35/100 | Train Loss: 1.0372, Train Acc: 0.6329 | Test Loss: 0.7400, Test Acc: 0.7412\n",
            "New best model saved with accuracy: 0.7412\n"
          ]
        },
        {
          "output_type": "stream",
          "name": "stderr",
          "text": [
            "Training: 100%|██████████| 196/196 [02:04<00:00,  1.57it/s, acc=0.66, loss=1.1]\n",
            "Evaluating: 100%|██████████| 40/40 [00:08<00:00,  4.81it/s, loss=0.559]\n"
          ]
        },
        {
          "output_type": "stream",
          "name": "stdout",
          "text": [
            "Epoch 36/100 | Train Loss: 1.0280, Train Acc: 0.6336 | Test Loss: 0.7458, Test Acc: 0.7403\n"
          ]
        },
        {
          "output_type": "stream",
          "name": "stderr",
          "text": [
            "Training: 100%|██████████| 196/196 [02:04<00:00,  1.57it/s, acc=0.66, loss=0.978]\n",
            "Evaluating: 100%|██████████| 40/40 [00:08<00:00,  4.85it/s, loss=0.514]\n"
          ]
        },
        {
          "output_type": "stream",
          "name": "stdout",
          "text": [
            "Epoch 37/100 | Train Loss: 1.0179, Train Acc: 0.6379 | Test Loss: 0.7501, Test Acc: 0.7432\n",
            "New best model saved with accuracy: 0.7432\n"
          ]
        },
        {
          "output_type": "stream",
          "name": "stderr",
          "text": [
            "Training: 100%|██████████| 196/196 [02:04<00:00,  1.58it/s, acc=0.64, loss=0.968]\n",
            "Evaluating: 100%|██████████| 40/40 [00:08<00:00,  4.85it/s, loss=0.561]\n"
          ]
        },
        {
          "output_type": "stream",
          "name": "stdout",
          "text": [
            "Epoch 38/100 | Train Loss: 1.0159, Train Acc: 0.6391 | Test Loss: 0.7432, Test Acc: 0.7445\n",
            "New best model saved with accuracy: 0.7445\n"
          ]
        },
        {
          "output_type": "stream",
          "name": "stderr",
          "text": [
            "Training: 100%|██████████| 196/196 [02:04<00:00,  1.57it/s, acc=0.64, loss=0.951]\n",
            "Evaluating: 100%|██████████| 40/40 [00:08<00:00,  4.85it/s, loss=0.516]\n"
          ]
        },
        {
          "output_type": "stream",
          "name": "stdout",
          "text": [
            "Epoch 39/100 | Train Loss: 1.0008, Train Acc: 0.6462 | Test Loss: 0.7226, Test Acc: 0.7500\n",
            "New best model saved with accuracy: 0.7500\n"
          ]
        },
        {
          "output_type": "stream",
          "name": "stderr",
          "text": [
            "Training: 100%|██████████| 196/196 [02:04<00:00,  1.58it/s, acc=0.59, loss=1.07]\n",
            "Evaluating: 100%|██████████| 40/40 [00:08<00:00,  4.82it/s, loss=0.452]\n"
          ]
        },
        {
          "output_type": "stream",
          "name": "stdout",
          "text": [
            "Epoch 40/100 | Train Loss: 0.9906, Train Acc: 0.6485 | Test Loss: 0.7191, Test Acc: 0.7474\n"
          ]
        },
        {
          "output_type": "stream",
          "name": "stderr",
          "text": [
            "Training: 100%|██████████| 196/196 [02:04<00:00,  1.57it/s, acc=0.65, loss=1.07]\n",
            "Evaluating: 100%|██████████| 40/40 [00:08<00:00,  4.85it/s, loss=0.602]\n"
          ]
        },
        {
          "output_type": "stream",
          "name": "stdout",
          "text": [
            "Epoch 41/100 | Train Loss: 0.9818, Train Acc: 0.6498 | Test Loss: 0.7083, Test Acc: 0.7530\n",
            "New best model saved with accuracy: 0.7530\n"
          ]
        },
        {
          "output_type": "stream",
          "name": "stderr",
          "text": [
            "Training: 100%|██████████| 196/196 [02:04<00:00,  1.58it/s, acc=0.65, loss=0.951]\n",
            "Evaluating: 100%|██████████| 40/40 [00:08<00:00,  4.82it/s, loss=0.645]\n"
          ]
        },
        {
          "output_type": "stream",
          "name": "stdout",
          "text": [
            "Epoch 42/100 | Train Loss: 0.9740, Train Acc: 0.6539 | Test Loss: 0.7249, Test Acc: 0.7470\n"
          ]
        },
        {
          "output_type": "stream",
          "name": "stderr",
          "text": [
            "Training: 100%|██████████| 196/196 [02:04<00:00,  1.58it/s, acc=0.68, loss=0.929]\n",
            "Evaluating: 100%|██████████| 40/40 [00:08<00:00,  4.82it/s, loss=0.519]\n"
          ]
        },
        {
          "output_type": "stream",
          "name": "stdout",
          "text": [
            "Epoch 43/100 | Train Loss: 0.9726, Train Acc: 0.6538 | Test Loss: 0.6889, Test Acc: 0.7582\n",
            "New best model saved with accuracy: 0.7582\n"
          ]
        },
        {
          "output_type": "stream",
          "name": "stderr",
          "text": [
            "Training: 100%|██████████| 196/196 [02:04<00:00,  1.57it/s, acc=0.68, loss=1.05]\n",
            "Evaluating: 100%|██████████| 40/40 [00:08<00:00,  4.84it/s, loss=0.444]\n"
          ]
        },
        {
          "output_type": "stream",
          "name": "stdout",
          "text": [
            "Epoch 44/100 | Train Loss: 0.9586, Train Acc: 0.6594 | Test Loss: 0.6910, Test Acc: 0.7632\n",
            "New best model saved with accuracy: 0.7632\n"
          ]
        },
        {
          "output_type": "stream",
          "name": "stderr",
          "text": [
            "Training: 100%|██████████| 196/196 [02:04<00:00,  1.57it/s, acc=0.55, loss=1.08]\n",
            "Evaluating: 100%|██████████| 40/40 [00:08<00:00,  4.82it/s, loss=0.549]\n"
          ]
        },
        {
          "output_type": "stream",
          "name": "stdout",
          "text": [
            "Epoch 45/100 | Train Loss: 0.9558, Train Acc: 0.6618 | Test Loss: 0.6847, Test Acc: 0.7624\n"
          ]
        },
        {
          "output_type": "stream",
          "name": "stderr",
          "text": [
            "Training: 100%|██████████| 196/196 [02:04<00:00,  1.57it/s, acc=0.69, loss=0.993]\n",
            "Evaluating: 100%|██████████| 40/40 [00:08<00:00,  4.86it/s, loss=0.437]\n"
          ]
        },
        {
          "output_type": "stream",
          "name": "stdout",
          "text": [
            "Epoch 46/100 | Train Loss: 0.9414, Train Acc: 0.6650 | Test Loss: 0.6809, Test Acc: 0.7657\n",
            "New best model saved with accuracy: 0.7657\n"
          ]
        },
        {
          "output_type": "stream",
          "name": "stderr",
          "text": [
            "Training: 100%|██████████| 196/196 [02:04<00:00,  1.58it/s, acc=0.64, loss=0.984]\n",
            "Evaluating: 100%|██████████| 40/40 [00:08<00:00,  4.84it/s, loss=0.396]\n"
          ]
        },
        {
          "output_type": "stream",
          "name": "stdout",
          "text": [
            "Epoch 47/100 | Train Loss: 0.9359, Train Acc: 0.6673 | Test Loss: 0.6785, Test Acc: 0.7620\n"
          ]
        },
        {
          "output_type": "stream",
          "name": "stderr",
          "text": [
            "Training: 100%|██████████| 196/196 [02:04<00:00,  1.57it/s, acc=0.72, loss=0.714]\n",
            "Evaluating: 100%|██████████| 40/40 [00:08<00:00,  4.84it/s, loss=0.477]\n"
          ]
        },
        {
          "output_type": "stream",
          "name": "stdout",
          "text": [
            "Epoch 48/100 | Train Loss: 0.9305, Train Acc: 0.6704 | Test Loss: 0.6858, Test Acc: 0.7632\n"
          ]
        },
        {
          "output_type": "stream",
          "name": "stderr",
          "text": [
            "Training: 100%|██████████| 196/196 [02:04<00:00,  1.57it/s, acc=0.62, loss=1.09]\n",
            "Evaluating: 100%|██████████| 40/40 [00:08<00:00,  4.85it/s, loss=0.519]\n"
          ]
        },
        {
          "output_type": "stream",
          "name": "stdout",
          "text": [
            "Epoch 49/100 | Train Loss: 0.9185, Train Acc: 0.6757 | Test Loss: 0.6889, Test Acc: 0.7615\n"
          ]
        },
        {
          "output_type": "stream",
          "name": "stderr",
          "text": [
            "Training: 100%|██████████| 196/196 [02:04<00:00,  1.58it/s, acc=0.72, loss=0.848]\n",
            "Evaluating: 100%|██████████| 40/40 [00:08<00:00,  4.76it/s, loss=0.48]\n"
          ]
        },
        {
          "output_type": "stream",
          "name": "stdout",
          "text": [
            "Epoch 50/100 | Train Loss: 0.9161, Train Acc: 0.6734 | Test Loss: 0.6698, Test Acc: 0.7680\n",
            "New best model saved with accuracy: 0.7680\n"
          ]
        },
        {
          "output_type": "stream",
          "name": "stderr",
          "text": [
            "Training: 100%|██████████| 196/196 [02:04<00:00,  1.57it/s, acc=0.59, loss=1.06]\n",
            "Evaluating: 100%|██████████| 40/40 [00:08<00:00,  4.82it/s, loss=0.559]\n"
          ]
        },
        {
          "output_type": "stream",
          "name": "stdout",
          "text": [
            "Epoch 51/100 | Train Loss: 0.9104, Train Acc: 0.6774 | Test Loss: 0.6885, Test Acc: 0.7643\n"
          ]
        },
        {
          "output_type": "stream",
          "name": "stderr",
          "text": [
            "Training: 100%|██████████| 196/196 [02:04<00:00,  1.57it/s, acc=0.65, loss=1.02]\n",
            "Evaluating: 100%|██████████| 40/40 [00:08<00:00,  4.83it/s, loss=0.439]\n"
          ]
        },
        {
          "output_type": "stream",
          "name": "stdout",
          "text": [
            "Epoch 52/100 | Train Loss: 0.9005, Train Acc: 0.6805 | Test Loss: 0.6515, Test Acc: 0.7754\n",
            "New best model saved with accuracy: 0.7754\n"
          ]
        },
        {
          "output_type": "stream",
          "name": "stderr",
          "text": [
            "Training: 100%|██████████| 196/196 [02:04<00:00,  1.57it/s, acc=0.69, loss=0.922]\n",
            "Evaluating: 100%|██████████| 40/40 [00:08<00:00,  4.83it/s, loss=0.579]\n"
          ]
        },
        {
          "output_type": "stream",
          "name": "stdout",
          "text": [
            "Epoch 53/100 | Train Loss: 0.8948, Train Acc: 0.6831 | Test Loss: 0.6491, Test Acc: 0.7720\n"
          ]
        },
        {
          "output_type": "stream",
          "name": "stderr",
          "text": [
            "Training: 100%|██████████| 196/196 [02:04<00:00,  1.57it/s, acc=0.68, loss=1.01]\n",
            "Evaluating: 100%|██████████| 40/40 [00:08<00:00,  4.85it/s, loss=0.516]\n"
          ]
        },
        {
          "output_type": "stream",
          "name": "stdout",
          "text": [
            "Epoch 54/100 | Train Loss: 0.8918, Train Acc: 0.6830 | Test Loss: 0.6587, Test Acc: 0.7739\n"
          ]
        },
        {
          "output_type": "stream",
          "name": "stderr",
          "text": [
            "Training: 100%|██████████| 196/196 [02:04<00:00,  1.58it/s, acc=0.68, loss=0.875]\n",
            "Evaluating: 100%|██████████| 40/40 [00:08<00:00,  4.83it/s, loss=0.616]\n"
          ]
        },
        {
          "output_type": "stream",
          "name": "stdout",
          "text": [
            "Epoch 55/100 | Train Loss: 0.8812, Train Acc: 0.6881 | Test Loss: 0.6483, Test Acc: 0.7768\n",
            "New best model saved with accuracy: 0.7768\n"
          ]
        },
        {
          "output_type": "stream",
          "name": "stderr",
          "text": [
            "Training: 100%|██████████| 196/196 [02:04<00:00,  1.57it/s, acc=0.75, loss=0.78]\n",
            "Evaluating: 100%|██████████| 40/40 [00:08<00:00,  4.84it/s, loss=0.534]\n"
          ]
        },
        {
          "output_type": "stream",
          "name": "stdout",
          "text": [
            "Epoch 56/100 | Train Loss: 0.8803, Train Acc: 0.6872 | Test Loss: 0.6558, Test Acc: 0.7748\n"
          ]
        },
        {
          "output_type": "stream",
          "name": "stderr",
          "text": [
            "Training: 100%|██████████| 196/196 [02:04<00:00,  1.57it/s, acc=0.59, loss=0.951]\n",
            "Evaluating: 100%|██████████| 40/40 [00:08<00:00,  4.77it/s, loss=0.525]\n"
          ]
        },
        {
          "output_type": "stream",
          "name": "stdout",
          "text": [
            "Epoch 57/100 | Train Loss: 0.8685, Train Acc: 0.6913 | Test Loss: 0.6511, Test Acc: 0.7759\n"
          ]
        },
        {
          "output_type": "stream",
          "name": "stderr",
          "text": [
            "Training: 100%|██████████| 196/196 [02:04<00:00,  1.58it/s, acc=0.57, loss=1.3]\n",
            "Evaluating: 100%|██████████| 40/40 [00:08<00:00,  4.83it/s, loss=0.466]\n"
          ]
        },
        {
          "output_type": "stream",
          "name": "stdout",
          "text": [
            "Epoch 58/100 | Train Loss: 0.8675, Train Acc: 0.6912 | Test Loss: 0.6532, Test Acc: 0.7750\n"
          ]
        },
        {
          "output_type": "stream",
          "name": "stderr",
          "text": [
            "Training: 100%|██████████| 196/196 [02:04<00:00,  1.57it/s, acc=0.61, loss=1.02]\n",
            "Evaluating: 100%|██████████| 40/40 [00:08<00:00,  4.85it/s, loss=0.529]\n"
          ]
        },
        {
          "output_type": "stream",
          "name": "stdout",
          "text": [
            "Epoch 59/100 | Train Loss: 0.8569, Train Acc: 0.6945 | Test Loss: 0.6158, Test Acc: 0.7872\n",
            "New best model saved with accuracy: 0.7872\n"
          ]
        },
        {
          "output_type": "stream",
          "name": "stderr",
          "text": [
            "Training: 100%|██████████| 196/196 [02:04<00:00,  1.58it/s, acc=0.72, loss=0.804]\n",
            "Evaluating: 100%|██████████| 40/40 [00:08<00:00,  4.84it/s, loss=0.531]\n"
          ]
        },
        {
          "output_type": "stream",
          "name": "stdout",
          "text": [
            "Epoch 60/100 | Train Loss: 0.8552, Train Acc: 0.6953 | Test Loss: 0.6376, Test Acc: 0.7810\n"
          ]
        },
        {
          "output_type": "stream",
          "name": "stderr",
          "text": [
            "Training: 100%|██████████| 196/196 [02:04<00:00,  1.57it/s, acc=0.69, loss=0.887]\n",
            "Evaluating: 100%|██████████| 40/40 [00:08<00:00,  4.81it/s, loss=0.534]\n"
          ]
        },
        {
          "output_type": "stream",
          "name": "stdout",
          "text": [
            "Epoch 61/100 | Train Loss: 0.8515, Train Acc: 0.6983 | Test Loss: 0.6260, Test Acc: 0.7839\n"
          ]
        },
        {
          "output_type": "stream",
          "name": "stderr",
          "text": [
            "Training: 100%|██████████| 196/196 [02:04<00:00,  1.57it/s, acc=0.70, loss=0.846]\n",
            "Evaluating: 100%|██████████| 40/40 [00:08<00:00,  4.84it/s, loss=0.594]\n"
          ]
        },
        {
          "output_type": "stream",
          "name": "stdout",
          "text": [
            "Epoch 62/100 | Train Loss: 0.8493, Train Acc: 0.6979 | Test Loss: 0.6426, Test Acc: 0.7807\n"
          ]
        },
        {
          "output_type": "stream",
          "name": "stderr",
          "text": [
            "Training: 100%|██████████| 196/196 [02:04<00:00,  1.57it/s, acc=0.72, loss=0.815]\n",
            "Evaluating: 100%|██████████| 40/40 [00:08<00:00,  4.80it/s, loss=0.431]\n"
          ]
        },
        {
          "output_type": "stream",
          "name": "stdout",
          "text": [
            "Epoch 63/100 | Train Loss: 0.8429, Train Acc: 0.7010 | Test Loss: 0.6356, Test Acc: 0.7843\n"
          ]
        },
        {
          "output_type": "stream",
          "name": "stderr",
          "text": [
            "Training: 100%|██████████| 196/196 [02:04<00:00,  1.57it/s, acc=0.76, loss=0.771]\n",
            "Evaluating: 100%|██████████| 40/40 [00:08<00:00,  4.85it/s, loss=0.449]\n"
          ]
        },
        {
          "output_type": "stream",
          "name": "stdout",
          "text": [
            "Epoch 64/100 | Train Loss: 0.8353, Train Acc: 0.7028 | Test Loss: 0.6292, Test Acc: 0.7856\n"
          ]
        },
        {
          "output_type": "stream",
          "name": "stderr",
          "text": [
            "Training: 100%|██████████| 196/196 [02:04<00:00,  1.57it/s, acc=0.75, loss=0.736]\n",
            "Evaluating: 100%|██████████| 40/40 [00:08<00:00,  4.86it/s, loss=0.483]\n"
          ]
        },
        {
          "output_type": "stream",
          "name": "stdout",
          "text": [
            "Epoch 65/100 | Train Loss: 0.8256, Train Acc: 0.7067 | Test Loss: 0.6070, Test Acc: 0.7954\n",
            "New best model saved with accuracy: 0.7954\n"
          ]
        },
        {
          "output_type": "stream",
          "name": "stderr",
          "text": [
            "Training: 100%|██████████| 196/196 [02:04<00:00,  1.58it/s, acc=0.78, loss=0.565]\n",
            "Evaluating: 100%|██████████| 40/40 [00:08<00:00,  4.82it/s, loss=0.487]\n"
          ]
        },
        {
          "output_type": "stream",
          "name": "stdout",
          "text": [
            "Epoch 66/100 | Train Loss: 0.8216, Train Acc: 0.7080 | Test Loss: 0.5983, Test Acc: 0.7972\n",
            "New best model saved with accuracy: 0.7972\n"
          ]
        },
        {
          "output_type": "stream",
          "name": "stderr",
          "text": [
            "Training: 100%|██████████| 196/196 [02:04<00:00,  1.57it/s, acc=0.78, loss=0.792]\n",
            "Evaluating: 100%|██████████| 40/40 [00:08<00:00,  4.84it/s, loss=0.457]\n"
          ]
        },
        {
          "output_type": "stream",
          "name": "stdout",
          "text": [
            "Epoch 67/100 | Train Loss: 0.8236, Train Acc: 0.7083 | Test Loss: 0.6120, Test Acc: 0.7895\n"
          ]
        },
        {
          "output_type": "stream",
          "name": "stderr",
          "text": [
            "Training: 100%|██████████| 196/196 [02:04<00:00,  1.58it/s, acc=0.71, loss=0.744]\n",
            "Evaluating: 100%|██████████| 40/40 [00:08<00:00,  4.85it/s, loss=0.439]\n"
          ]
        },
        {
          "output_type": "stream",
          "name": "stdout",
          "text": [
            "Epoch 68/100 | Train Loss: 0.8152, Train Acc: 0.7122 | Test Loss: 0.6015, Test Acc: 0.7948\n"
          ]
        },
        {
          "output_type": "stream",
          "name": "stderr",
          "text": [
            "Training: 100%|██████████| 196/196 [02:04<00:00,  1.57it/s, acc=0.68, loss=0.81]\n",
            "Evaluating: 100%|██████████| 40/40 [00:08<00:00,  4.84it/s, loss=0.41]\n"
          ]
        },
        {
          "output_type": "stream",
          "name": "stdout",
          "text": [
            "Epoch 69/100 | Train Loss: 0.8117, Train Acc: 0.7114 | Test Loss: 0.6245, Test Acc: 0.7885\n"
          ]
        },
        {
          "output_type": "stream",
          "name": "stderr",
          "text": [
            "Training: 100%|██████████| 196/196 [02:04<00:00,  1.57it/s, acc=0.76, loss=0.683]\n",
            "Evaluating: 100%|██████████| 40/40 [00:08<00:00,  4.82it/s, loss=0.439]\n"
          ]
        },
        {
          "output_type": "stream",
          "name": "stdout",
          "text": [
            "Epoch 70/100 | Train Loss: 0.8096, Train Acc: 0.7136 | Test Loss: 0.6076, Test Acc: 0.7935\n"
          ]
        },
        {
          "output_type": "stream",
          "name": "stderr",
          "text": [
            "Training: 100%|██████████| 196/196 [02:04<00:00,  1.58it/s, acc=0.79, loss=0.778]\n",
            "Evaluating: 100%|██████████| 40/40 [00:08<00:00,  4.83it/s, loss=0.533]\n"
          ]
        },
        {
          "output_type": "stream",
          "name": "stdout",
          "text": [
            "Epoch 71/100 | Train Loss: 0.8089, Train Acc: 0.7137 | Test Loss: 0.6021, Test Acc: 0.7956\n"
          ]
        },
        {
          "output_type": "stream",
          "name": "stderr",
          "text": [
            "Training: 100%|██████████| 196/196 [02:04<00:00,  1.57it/s, acc=0.68, loss=0.84]\n",
            "Evaluating: 100%|██████████| 40/40 [00:08<00:00,  4.84it/s, loss=0.413]\n"
          ]
        },
        {
          "output_type": "stream",
          "name": "stdout",
          "text": [
            "Epoch 72/100 | Train Loss: 0.8027, Train Acc: 0.7166 | Test Loss: 0.6157, Test Acc: 0.7928\n"
          ]
        },
        {
          "output_type": "stream",
          "name": "stderr",
          "text": [
            "Training: 100%|██████████| 196/196 [02:04<00:00,  1.58it/s, acc=0.75, loss=0.773]\n",
            "Evaluating: 100%|██████████| 40/40 [00:08<00:00,  4.86it/s, loss=0.461]\n"
          ]
        },
        {
          "output_type": "stream",
          "name": "stdout",
          "text": [
            "Epoch 73/100 | Train Loss: 0.7971, Train Acc: 0.7198 | Test Loss: 0.5940, Test Acc: 0.8004\n",
            "New best model saved with accuracy: 0.8004\n"
          ]
        },
        {
          "output_type": "stream",
          "name": "stderr",
          "text": [
            "Training: 100%|██████████| 196/196 [02:04<00:00,  1.58it/s, acc=0.68, loss=0.929]\n",
            "Evaluating: 100%|██████████| 40/40 [00:08<00:00,  4.85it/s, loss=0.411]\n"
          ]
        },
        {
          "output_type": "stream",
          "name": "stdout",
          "text": [
            "Epoch 74/100 | Train Loss: 0.8001, Train Acc: 0.7152 | Test Loss: 0.5992, Test Acc: 0.7950\n"
          ]
        },
        {
          "output_type": "stream",
          "name": "stderr",
          "text": [
            "Training: 100%|██████████| 196/196 [02:04<00:00,  1.57it/s, acc=0.64, loss=1.01]\n",
            "Evaluating: 100%|██████████| 40/40 [00:08<00:00,  4.86it/s, loss=0.34]\n"
          ]
        },
        {
          "output_type": "stream",
          "name": "stdout",
          "text": [
            "Epoch 75/100 | Train Loss: 0.7918, Train Acc: 0.7211 | Test Loss: 0.6029, Test Acc: 0.7998\n"
          ]
        },
        {
          "output_type": "stream",
          "name": "stderr",
          "text": [
            "Training: 100%|██████████| 196/196 [02:04<00:00,  1.58it/s, acc=0.70, loss=0.732]\n",
            "Evaluating: 100%|██████████| 40/40 [00:08<00:00,  4.86it/s, loss=0.333]\n"
          ]
        },
        {
          "output_type": "stream",
          "name": "stdout",
          "text": [
            "Epoch 76/100 | Train Loss: 0.7857, Train Acc: 0.7231 | Test Loss: 0.6062, Test Acc: 0.7994\n"
          ]
        },
        {
          "output_type": "stream",
          "name": "stderr",
          "text": [
            "Training: 100%|██████████| 196/196 [02:04<00:00,  1.57it/s, acc=0.76, loss=0.707]\n",
            "Evaluating: 100%|██████████| 40/40 [00:08<00:00,  4.86it/s, loss=0.392]\n"
          ]
        },
        {
          "output_type": "stream",
          "name": "stdout",
          "text": [
            "Epoch 77/100 | Train Loss: 0.7900, Train Acc: 0.7186 | Test Loss: 0.6052, Test Acc: 0.7979\n"
          ]
        },
        {
          "output_type": "stream",
          "name": "stderr",
          "text": [
            "Training: 100%|██████████| 196/196 [02:04<00:00,  1.58it/s, acc=0.68, loss=1.06]\n",
            "Evaluating: 100%|██████████| 40/40 [00:08<00:00,  4.82it/s, loss=0.4]\n"
          ]
        },
        {
          "output_type": "stream",
          "name": "stdout",
          "text": [
            "Epoch 78/100 | Train Loss: 0.7918, Train Acc: 0.7164 | Test Loss: 0.5902, Test Acc: 0.8000\n"
          ]
        },
        {
          "output_type": "stream",
          "name": "stderr",
          "text": [
            "Training: 100%|██████████| 196/196 [02:04<00:00,  1.58it/s, acc=0.69, loss=0.758]\n",
            "Evaluating: 100%|██████████| 40/40 [00:08<00:00,  4.86it/s, loss=0.353]\n"
          ]
        },
        {
          "output_type": "stream",
          "name": "stdout",
          "text": [
            "Epoch 79/100 | Train Loss: 0.7784, Train Acc: 0.7235 | Test Loss: 0.5945, Test Acc: 0.8002\n"
          ]
        },
        {
          "output_type": "stream",
          "name": "stderr",
          "text": [
            "Training: 100%|██████████| 196/196 [02:04<00:00,  1.58it/s, acc=0.72, loss=0.73]\n",
            "Evaluating: 100%|██████████| 40/40 [00:08<00:00,  4.79it/s, loss=0.41]\n"
          ]
        },
        {
          "output_type": "stream",
          "name": "stdout",
          "text": [
            "Epoch 80/100 | Train Loss: 0.7822, Train Acc: 0.7234 | Test Loss: 0.5933, Test Acc: 0.8023\n",
            "New best model saved with accuracy: 0.8023\n"
          ]
        },
        {
          "output_type": "stream",
          "name": "stderr",
          "text": [
            "Training: 100%|██████████| 196/196 [02:04<00:00,  1.58it/s, acc=0.70, loss=0.87]\n",
            "Evaluating: 100%|██████████| 40/40 [00:08<00:00,  4.85it/s, loss=0.383]\n"
          ]
        },
        {
          "output_type": "stream",
          "name": "stdout",
          "text": [
            "Epoch 81/100 | Train Loss: 0.7795, Train Acc: 0.7251 | Test Loss: 0.6058, Test Acc: 0.7938\n"
          ]
        },
        {
          "output_type": "stream",
          "name": "stderr",
          "text": [
            "Training: 100%|██████████| 196/196 [02:04<00:00,  1.58it/s, acc=0.69, loss=0.763]\n",
            "Evaluating: 100%|██████████| 40/40 [00:08<00:00,  4.77it/s, loss=0.379]\n"
          ]
        },
        {
          "output_type": "stream",
          "name": "stdout",
          "text": [
            "Epoch 82/100 | Train Loss: 0.7734, Train Acc: 0.7252 | Test Loss: 0.5953, Test Acc: 0.7989\n"
          ]
        },
        {
          "output_type": "stream",
          "name": "stderr",
          "text": [
            "Training: 100%|██████████| 196/196 [02:04<00:00,  1.58it/s, acc=0.75, loss=0.756]\n",
            "Evaluating: 100%|██████████| 40/40 [00:08<00:00,  4.86it/s, loss=0.369]\n"
          ]
        },
        {
          "output_type": "stream",
          "name": "stdout",
          "text": [
            "Epoch 83/100 | Train Loss: 0.7768, Train Acc: 0.7226 | Test Loss: 0.5892, Test Acc: 0.7997\n"
          ]
        },
        {
          "output_type": "stream",
          "name": "stderr",
          "text": [
            "Training: 100%|██████████| 196/196 [02:04<00:00,  1.57it/s, acc=0.74, loss=0.741]\n",
            "Evaluating: 100%|██████████| 40/40 [00:08<00:00,  4.85it/s, loss=0.36]\n"
          ]
        },
        {
          "output_type": "stream",
          "name": "stdout",
          "text": [
            "Epoch 84/100 | Train Loss: 0.7721, Train Acc: 0.7270 | Test Loss: 0.5907, Test Acc: 0.8000\n"
          ]
        },
        {
          "output_type": "stream",
          "name": "stderr",
          "text": [
            "Training: 100%|██████████| 196/196 [02:04<00:00,  1.58it/s, acc=0.68, loss=0.831]\n",
            "Evaluating: 100%|██████████| 40/40 [00:08<00:00,  4.85it/s, loss=0.385]\n"
          ]
        },
        {
          "output_type": "stream",
          "name": "stdout",
          "text": [
            "Epoch 85/100 | Train Loss: 0.7753, Train Acc: 0.7241 | Test Loss: 0.5902, Test Acc: 0.8011\n"
          ]
        },
        {
          "output_type": "stream",
          "name": "stderr",
          "text": [
            "Training: 100%|██████████| 196/196 [02:04<00:00,  1.57it/s, acc=0.72, loss=0.847]\n",
            "Evaluating: 100%|██████████| 40/40 [00:08<00:00,  4.84it/s, loss=0.363]\n"
          ]
        },
        {
          "output_type": "stream",
          "name": "stdout",
          "text": [
            "Epoch 86/100 | Train Loss: 0.7637, Train Acc: 0.7271 | Test Loss: 0.5914, Test Acc: 0.8017\n"
          ]
        },
        {
          "output_type": "stream",
          "name": "stderr",
          "text": [
            "Training: 100%|██████████| 196/196 [02:04<00:00,  1.57it/s, acc=0.79, loss=0.675]\n",
            "Evaluating: 100%|██████████| 40/40 [00:08<00:00,  4.85it/s, loss=0.358]\n"
          ]
        },
        {
          "output_type": "stream",
          "name": "stdout",
          "text": [
            "Epoch 87/100 | Train Loss: 0.7654, Train Acc: 0.7305 | Test Loss: 0.5887, Test Acc: 0.8034\n",
            "New best model saved with accuracy: 0.8034\n"
          ]
        },
        {
          "output_type": "stream",
          "name": "stderr",
          "text": [
            "Training: 100%|██████████| 196/196 [02:04<00:00,  1.58it/s, acc=0.78, loss=0.691]\n",
            "Evaluating: 100%|██████████| 40/40 [00:08<00:00,  4.85it/s, loss=0.354]\n"
          ]
        },
        {
          "output_type": "stream",
          "name": "stdout",
          "text": [
            "Epoch 88/100 | Train Loss: 0.7599, Train Acc: 0.7305 | Test Loss: 0.5923, Test Acc: 0.8034\n"
          ]
        },
        {
          "output_type": "stream",
          "name": "stderr",
          "text": [
            "Training: 100%|██████████| 196/196 [02:04<00:00,  1.58it/s, acc=0.71, loss=0.818]\n",
            "Evaluating: 100%|██████████| 40/40 [00:08<00:00,  4.82it/s, loss=0.362]\n"
          ]
        },
        {
          "output_type": "stream",
          "name": "stdout",
          "text": [
            "Epoch 89/100 | Train Loss: 0.7671, Train Acc: 0.7295 | Test Loss: 0.5843, Test Acc: 0.8064\n",
            "New best model saved with accuracy: 0.8064\n"
          ]
        },
        {
          "output_type": "stream",
          "name": "stderr",
          "text": [
            "Training: 100%|██████████| 196/196 [02:04<00:00,  1.58it/s, acc=0.74, loss=0.75]\n",
            "Evaluating: 100%|██████████| 40/40 [00:08<00:00,  4.85it/s, loss=0.353]\n"
          ]
        },
        {
          "output_type": "stream",
          "name": "stdout",
          "text": [
            "Epoch 90/100 | Train Loss: 0.7589, Train Acc: 0.7308 | Test Loss: 0.5874, Test Acc: 0.8051\n"
          ]
        },
        {
          "output_type": "stream",
          "name": "stderr",
          "text": [
            "Training: 100%|██████████| 196/196 [02:04<00:00,  1.58it/s, acc=0.70, loss=0.769]\n",
            "Evaluating: 100%|██████████| 40/40 [00:08<00:00,  4.86it/s, loss=0.361]\n"
          ]
        },
        {
          "output_type": "stream",
          "name": "stdout",
          "text": [
            "Epoch 91/100 | Train Loss: 0.7641, Train Acc: 0.7306 | Test Loss: 0.5867, Test Acc: 0.8055\n"
          ]
        },
        {
          "output_type": "stream",
          "name": "stderr",
          "text": [
            "Training: 100%|██████████| 196/196 [02:04<00:00,  1.58it/s, acc=0.66, loss=0.852]\n",
            "Evaluating: 100%|██████████| 40/40 [00:08<00:00,  4.85it/s, loss=0.35]\n"
          ]
        },
        {
          "output_type": "stream",
          "name": "stdout",
          "text": [
            "Epoch 92/100 | Train Loss: 0.7628, Train Acc: 0.7296 | Test Loss: 0.5860, Test Acc: 0.8057\n"
          ]
        },
        {
          "output_type": "stream",
          "name": "stderr",
          "text": [
            "Training: 100%|██████████| 196/196 [02:04<00:00,  1.58it/s, acc=0.74, loss=0.696]\n",
            "Evaluating: 100%|██████████| 40/40 [00:08<00:00,  4.81it/s, loss=0.354]\n"
          ]
        },
        {
          "output_type": "stream",
          "name": "stdout",
          "text": [
            "Epoch 93/100 | Train Loss: 0.7577, Train Acc: 0.7317 | Test Loss: 0.5869, Test Acc: 0.8055\n"
          ]
        },
        {
          "output_type": "stream",
          "name": "stderr",
          "text": [
            "Training: 100%|██████████| 196/196 [02:04<00:00,  1.58it/s, acc=0.71, loss=0.808]\n",
            "Evaluating: 100%|██████████| 40/40 [00:08<00:00,  4.82it/s, loss=0.361]\n"
          ]
        },
        {
          "output_type": "stream",
          "name": "stdout",
          "text": [
            "Epoch 94/100 | Train Loss: 0.7637, Train Acc: 0.7289 | Test Loss: 0.5896, Test Acc: 0.8049\n"
          ]
        },
        {
          "output_type": "stream",
          "name": "stderr",
          "text": [
            "Training: 100%|██████████| 196/196 [02:04<00:00,  1.57it/s, acc=0.80, loss=0.588]\n",
            "Evaluating: 100%|██████████| 40/40 [00:08<00:00,  4.83it/s, loss=0.359]\n"
          ]
        },
        {
          "output_type": "stream",
          "name": "stdout",
          "text": [
            "Epoch 95/100 | Train Loss: 0.7548, Train Acc: 0.7316 | Test Loss: 0.5865, Test Acc: 0.8047\n"
          ]
        },
        {
          "output_type": "stream",
          "name": "stderr",
          "text": [
            "Training: 100%|██████████| 196/196 [02:04<00:00,  1.58it/s, acc=0.72, loss=0.766]\n",
            "Evaluating: 100%|██████████| 40/40 [00:08<00:00,  4.82it/s, loss=0.359]\n"
          ]
        },
        {
          "output_type": "stream",
          "name": "stdout",
          "text": [
            "Epoch 96/100 | Train Loss: 0.7603, Train Acc: 0.7296 | Test Loss: 0.5863, Test Acc: 0.8041\n"
          ]
        },
        {
          "output_type": "stream",
          "name": "stderr",
          "text": [
            "Training: 100%|██████████| 196/196 [02:04<00:00,  1.57it/s, acc=0.74, loss=0.65]\n",
            "Evaluating: 100%|██████████| 40/40 [00:08<00:00,  4.84it/s, loss=0.356]\n"
          ]
        },
        {
          "output_type": "stream",
          "name": "stdout",
          "text": [
            "Epoch 97/100 | Train Loss: 0.7607, Train Acc: 0.7307 | Test Loss: 0.5871, Test Acc: 0.8049\n"
          ]
        },
        {
          "output_type": "stream",
          "name": "stderr",
          "text": [
            "Training: 100%|██████████| 196/196 [02:04<00:00,  1.58it/s, acc=0.64, loss=0.854]\n",
            "Evaluating: 100%|██████████| 40/40 [00:08<00:00,  4.84it/s, loss=0.359]\n"
          ]
        },
        {
          "output_type": "stream",
          "name": "stdout",
          "text": [
            "Epoch 98/100 | Train Loss: 0.7588, Train Acc: 0.7297 | Test Loss: 0.5871, Test Acc: 0.8045\n"
          ]
        },
        {
          "output_type": "stream",
          "name": "stderr",
          "text": [
            "Training: 100%|██████████| 196/196 [02:04<00:00,  1.57it/s, acc=0.68, loss=1]\n",
            "Evaluating: 100%|██████████| 40/40 [00:08<00:00,  4.85it/s, loss=0.36]\n"
          ]
        },
        {
          "output_type": "stream",
          "name": "stdout",
          "text": [
            "Epoch 99/100 | Train Loss: 0.7562, Train Acc: 0.7338 | Test Loss: 0.5865, Test Acc: 0.8041\n"
          ]
        },
        {
          "output_type": "stream",
          "name": "stderr",
          "text": [
            "Training: 100%|██████████| 196/196 [02:04<00:00,  1.58it/s, acc=0.75, loss=0.677]\n",
            "Evaluating: 100%|██████████| 40/40 [00:08<00:00,  4.86it/s, loss=0.36]"
          ]
        },
        {
          "output_type": "stream",
          "name": "stdout",
          "text": [
            "Epoch 100/100 | Train Loss: 0.7532, Train Acc: 0.7326 | Test Loss: 0.5866, Test Acc: 0.8041\n",
            "Training finished!\n",
            "Best Test Accuracy: 0.8064\n"
          ]
        },
        {
          "output_type": "stream",
          "name": "stderr",
          "text": [
            "\n"
          ]
        }
      ]
    },
    {
      "cell_type": "markdown",
      "metadata": {
        "id": "f5dcd151"
      },
      "source": [
        "# Vision Transformer (ViT) for CIFAR-10 Classification\n",
        "\n",
        "This notebook implements a Vision Transformer model from scratch in PyTorch to classify images from the CIFAR-10 dataset.\n",
        "\n",
        "## Overview\n",
        "\n",
        "The notebook covers the following steps:\n",
        "\n",
        "1.  **Setup**: Imports necessary libraries and sets up the device (GPU or CPU).\n",
        "2.  **Configuration**: Defines hyperparameters for the model and training process.\n",
        "3.  **Data Preparation**: Downloads, transforms, and loads the CIFAR-10 dataset using PyTorch DataLoaders. Data augmentation is applied to the training set.\n",
        "4.  **Model Architecture**: Defines the Vision Transformer architecture, including:\n",
        "    *   `PatchEmbedding`: Converts input images into a sequence of flattened patches and projects them into a higher-dimensional space.\n",
        "    *   `TransformerEncoder`: Implements a standard Transformer encoder layer with multi-head attention and an MLP block.\n",
        "    *   `VisionTransformer`: Combines the patch embedding, learnable CLS token, positional embeddings, and a stack of Transformer encoders with a final classification head.\n",
        "5.  **Training Setup**: Defines the loss function (Cross-Entropy), optimizer (AdamW), and learning rate scheduler (Cosine Annealing).\n",
        "6.  **Training & Evaluation Functions**: Implements functions for training one epoch and evaluating the model on the test set.\n",
        "7.  **Main Training Loop**: Runs the training process for a specified number of epochs, saves the best model based on test accuracy, and prints training and evaluation metrics per epoch.\n",
        "\n",
        "## Requirements\n",
        "\n",
        "*   PyTorch\n",
        "*   Torchvision\n",
        "*   Tqdm\n",
        "\n",
        "These libraries are typically pre-installed in Google Colab environments.\n",
        "\n",
        "## Usage\n",
        "\n",
        "1.  **Run all cells**: Execute the cells sequentially from top to bottom.\n",
        "2.  **Monitor Training**: Observe the training progress and metrics printed in the output of the training loop cell. The best test accuracy achieved will be reported at the end.\n",
        "3.  **Best Model**: The best performing model weights will be saved to a file named `best_vit_cifar10.pth`.\n",
        "\n",
        "## Configuration\n",
        "\n",
        "You can adjust the model and training hyperparameters in the \"Configuration\" cell (e.g., `IMG_SIZE`, `PATCH_SIZE`, `NUM_EPOCHS`, `LEARNING_RATE`, etc.) to experiment with different settings.\n",
        "\n",
        "## Dataset\n",
        "\n",
        "The notebook uses the CIFAR-10 dataset, which consists of 60,000 32x32 color images in 10 classes, with 6,000 images per class. There are 50,000 training images and 10,000 test images."
      ]
    }
  ]
}